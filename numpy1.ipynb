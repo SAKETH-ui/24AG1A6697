{
  "nbformat": 4,
  "nbformat_minor": 0,
  "metadata": {
    "colab": {
      "provenance": [],
      "authorship_tag": "ABX9TyNN9mUJb7O+sdw7GRRzPf4a",
      "include_colab_link": true
    },
    "kernelspec": {
      "name": "python3",
      "display_name": "Python 3"
    },
    "language_info": {
      "name": "python"
    }
  },
  "cells": [
    {
      "cell_type": "markdown",
      "metadata": {
        "id": "view-in-github",
        "colab_type": "text"
      },
      "source": [
        "<a href=\"https://colab.research.google.com/github/SAKETH-ui/24AG1A6697/blob/main/numpy1.ipynb\" target=\"_parent\"><img src=\"https://colab.research.google.com/assets/colab-badge.svg\" alt=\"Open In Colab\"/></a>"
      ]
    },
    {
      "cell_type": "markdown",
      "source": [
        "**import numpy in python**"
      ],
      "metadata": {
        "id": "2H1jV1KjrPvF"
      }
    },
    {
      "cell_type": "code",
      "execution_count": 2,
      "metadata": {
        "id": "6ZP-HqA4kA1f"
      },
      "outputs": [],
      "source": [
        "import numpy as np"
      ]
    },
    {
      "cell_type": "markdown",
      "source": [
        "import numpy creation"
      ],
      "metadata": {
        "id": "sV2nRQ-5rfHg"
      }
    },
    {
      "cell_type": "code",
      "source": [
        "list=[2,3,4,5]\n",
        "array1=np.array(list)\n",
        "print(array1)"
      ],
      "metadata": {
        "colab": {
          "base_uri": "https://localhost:8080/"
        },
        "id": "7odwoCFlrlwM",
        "outputId": "2a7002bf-f303-49da-d917-f8d51e1596d5"
      },
      "execution_count": 3,
      "outputs": [
        {
          "output_type": "stream",
          "name": "stdout",
          "text": [
            "[2 3 4 5]\n"
          ]
        }
      ]
    },
    {
      "cell_type": "code",
      "source": [
        "arrsy2=np.array([2,1,3,2,2])\n",
        "print(arrsy2)"
      ],
      "metadata": {
        "colab": {
          "base_uri": "https://localhost:8080/"
        },
        "id": "IEDGOEUHr7Sm",
        "outputId": "0e160c3b-9ac4-4213-9f6f-105ae6bd7ed5"
      },
      "execution_count": 4,
      "outputs": [
        {
          "output_type": "stream",
          "name": "stdout",
          "text": [
            "[2 1 3 2 2]\n"
          ]
        }
      ]
    },
    {
      "cell_type": "markdown",
      "source": [
        "Creating a 2D array"
      ],
      "metadata": {
        "id": "pS-flNDhsGEa"
      }
    },
    {
      "cell_type": "code",
      "source": [
        "array3=np.array([[1,3,2,4],[6,4,4,3]])\n",
        "print(array3)"
      ],
      "metadata": {
        "colab": {
          "base_uri": "https://localhost:8080/"
        },
        "id": "n9ZtbYVDsOBh",
        "outputId": "3fa00ed6-042b-4652-ddde-b486b9f3d73c"
      },
      "execution_count": 5,
      "outputs": [
        {
          "output_type": "stream",
          "name": "stdout",
          "text": [
            "[[1 3 2 4]\n",
            " [6 4 4 3]]\n"
          ]
        }
      ]
    },
    {
      "cell_type": "markdown",
      "source": [
        "Printing 3D array"
      ],
      "metadata": {
        "id": "RnXwqnzgshTB"
      }
    },
    {
      "cell_type": "code",
      "source": [
        "array4=np.array([[[1,2,3,4],[3,4,57,6],[4,5,6,2]],[[234,4,3,2],[23,42,2,2],[3,2,35,7]]])\n",
        "print(array4)\n",
        "print(array4.ndim)\n",
        "print(array.size)\n",
        "print(array.itemsize)"
      ],
      "metadata": {
        "colab": {
          "base_uri": "https://localhost:8080/"
        },
        "id": "yyqDWt7tsnzx",
        "outputId": "a8ac4999-4f4a-414e-aa3c-41ef00b2c17c"
      },
      "execution_count": 9,
      "outputs": [
        {
          "output_type": "stream",
          "name": "stdout",
          "text": [
            "[[[  1   2   3   4]\n",
            "  [  3   4  57   6]\n",
            "  [  4   5   6   2]]\n",
            "\n",
            " [[234   4   3   2]\n",
            "  [ 23  42   2   2]\n",
            "  [  3   2  35   7]]]\n",
            "3\n",
            "24\n",
            "8\n"
          ]
        }
      ]
    },
    {
      "cell_type": "code",
      "source": [
        "array5=np.array([1,3,32,4])\n",
        "print(array5.dtype)\n",
        "print(array5.size)"
      ],
      "metadata": {
        "colab": {
          "base_uri": "https://localhost:8080/"
        },
        "id": "SzGB_jnLtmyJ",
        "outputId": "8bda9ea5-6e28-48f1-fbc5-d610aba70337"
      },
      "execution_count": 10,
      "outputs": [
        {
          "output_type": "stream",
          "name": "stdout",
          "text": [
            "int64\n",
            "4\n"
          ]
        }
      ]
    },
    {
      "cell_type": "markdown",
      "source": [
        "check the datatype of given array"
      ],
      "metadata": {
        "id": "T31yZZvMuJJp"
      }
    },
    {
      "cell_type": "code",
      "source": [
        "print(array5.ndim)"
      ],
      "metadata": {
        "colab": {
          "base_uri": "https://localhost:8080/"
        },
        "id": "h2ok88zHuRDW",
        "outputId": "4e9ccc9e-3a98-4ffc-95df-d07fffaf5f5a"
      },
      "execution_count": 11,
      "outputs": [
        {
          "output_type": "stream",
          "name": "stdout",
          "text": [
            "1\n"
          ]
        }
      ]
    },
    {
      "cell_type": "markdown",
      "source": [
        "numpy shape attribute"
      ],
      "metadata": {
        "id": "nyM8Zre-ueGR"
      }
    },
    {
      "cell_type": "code",
      "source": [
        "array6=np.array([[1,3,325,2],[5,4,6,3]])\n",
        "print(array6.shape)"
      ],
      "metadata": {
        "colab": {
          "base_uri": "https://localhost:8080/"
        },
        "id": "U7ZNT7N2uj78",
        "outputId": "e96c01cf-a3bc-4900-bf04-b5b9a573b8f2"
      },
      "execution_count": 13,
      "outputs": [
        {
          "output_type": "stream",
          "name": "stdout",
          "text": [
            "(2, 4)\n"
          ]
        }
      ]
    },
    {
      "cell_type": "code",
      "source": [
        "arr1=np.array([1,2,3,4])\n",
        "arr2=np.array([[2,3,4,5],[4,5,6,7]])\n",
        "print(arr1.data)\n",
        "print(arr2.data)"
      ],
      "metadata": {
        "colab": {
          "base_uri": "https://localhost:8080/"
        },
        "id": "-2UYbkF2u_fO",
        "outputId": "dbce51e7-5a1e-44a8-c625-cfe22d6a6af8"
      },
      "execution_count": 14,
      "outputs": [
        {
          "output_type": "stream",
          "name": "stdout",
          "text": [
            "<memory at 0x7d4179345cc0>\n",
            "<memory at 0x7d41410be400>\n"
          ]
        }
      ]
    }
  ]
}